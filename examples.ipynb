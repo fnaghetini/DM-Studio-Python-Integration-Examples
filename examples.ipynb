{
 "cells": [
  {
   "cell_type": "markdown",
   "id": "50d89b62",
   "metadata": {},
   "source": [
    "# Using Datamine Studio With Python"
   ]
  },
  {
   "cell_type": "markdown",
   "id": "63947a54",
   "metadata": {},
   "source": [
    "## Introduction\n",
    "\n",
    "The **Datamine Scripting** feature has been widely used in the mining industry for decades. Traditionally, it integrates Datamine Studio with JavaScript (JS) through **Microsoft’s Component Object Model (COM)**, a technology supported on Windows OS.\n",
    "\n",
    "Since COM is compatible with multiple programming languages, **Datamine Scripting can also be used through Python integration**. This enables the use of Python’s powerful features, widely adopted in Data Science, such as:\n",
    "\n",
    "- Plotting charts;\n",
    "- Building complex data validation and analysis workflows;\n",
    "- Embedding Machine Learning workflows.\n",
    "\n",
    "If you are already familiar with Datamine Scripting via JS, this material will be very helpful. Throughout this notebook, we will explore **examples of Datamine Scripting functionalities using JS, each followed by a corresponding example in Python**."
   ]
  },
  {
   "cell_type": "markdown",
   "id": "8b2842f4",
   "metadata": {},
   "source": [
    "## Requirements\n",
    "\n",
    "In order to use **Datamine Scripting** with Python, you will need:\n",
    "\n",
    "1. Datamine Studio (RM/OP/UG/Geo) with a valid license.\n",
    "\n",
    "2. Install Python (I recommend installing via [Anaconda](https://www.anaconda.com/download)).\n",
    "\n",
    "3. Install the following packages:\n",
    "\n",
    "```cmd\n",
    "pip install win32com\n",
    "pip install pythoncom\n",
    "\n",
    "```\n",
    "\n",
    "The following libraries need to be installed to follow the examples, but are not required to connect with Datamine Studio.\n",
    "\n",
    "```cmd\n",
    "pip install pandas\n",
    "pip install matplotlib\n",
    "pip install seaborn\n",
    "\n",
    "```\n",
    "\n",
    "> **Note:** if you installed Python via Anaconda, all the dependencies are already installed in the `base` environment."
   ]
  },
  {
   "cell_type": "code",
   "execution_count": 1,
   "id": "87c60cc3",
   "metadata": {},
   "outputs": [],
   "source": [
    "# Required Libraries\n",
    "import pythoncom\n",
    "import win32com.client as client\n",
    "import pandas as pd\n",
    "import matplotlib.pyplot as plt\n",
    "import seaborn as sns"
   ]
  },
  {
   "cell_type": "markdown",
   "id": "7ed9a16a",
   "metadata": {},
   "source": [
    "## Initializing Connection\n",
    "\n",
    "Before anything else, you must open **Datamine Studio (RM/OP/UG/Geo)** in the project you will be working on (i.e. Active Project).  \n",
    "Otherwise, the connection between **Python** and **Datamine Studio** will fail.\n",
    "\n",
    "Next, we need to initialize **Datamine Scripting**. This is done by creating an **initialization function** (usually called `AutoConnect()`). \n",
    "\n",
    "Below, we will review how this function is built in **JS**, followed by its equivalent in **Python**.\n",
    "\n",
    "> **Note:** The initialization function is the **main difference** between using Datamine Scripting in **JS** and **Python**.  \n",
    "> The use of all other resources is almost identical, since both rely on the **Datamine Scripting Language**.\n",
    "\n",
    "\n",
    "**JS**\n",
    "\n",
    "```javascript\n",
    "function AutoConnect() {\n",
    "    oScript = new ActiveXObject(\"StudioCommon.ScriptHelper\");\n",
    "    oScript.initialize(window);\n",
    "    oDmApp = oScript.getApplication();\n",
    "}\n",
    "```\n",
    "\n",
    "**Python**"
   ]
  },
  {
   "cell_type": "code",
   "execution_count": 2,
   "id": "16064073",
   "metadata": {},
   "outputs": [],
   "source": [
    "def auto_connect():\n",
    "    try:\n",
    "        pythoncom.CoInitialize()\n",
    "        return client.Dispatch(\"Datamine.StudioRM.Application\")\n",
    "    except Exception as e:\n",
    "        print(\"Failed to connect to Datamine StudioRM.\")\n",
    "        return None"
   ]
  },
  {
   "cell_type": "code",
   "execution_count": 3,
   "id": "91cb0cad",
   "metadata": {},
   "outputs": [],
   "source": [
    "# Initialize connection to Datamine StudioRM\n",
    "odmapp = None"
   ]
  },
  {
   "cell_type": "code",
   "execution_count": 4,
   "id": "cb8f014e",
   "metadata": {},
   "outputs": [],
   "source": [
    "odmapp = auto_connect()"
   ]
  },
  {
   "cell_type": "markdown",
   "id": "11fd6ac8",
   "metadata": {},
   "source": [
    "## Active Project Path\n",
    "\n",
    "**JS**\n",
    "\n",
    "```javascript\n",
    "var projectPath = oDmApp.ActiveProject.Folder;\n",
    "```\n",
    "\n",
    "**Python**"
   ]
  },
  {
   "cell_type": "code",
   "execution_count": 5,
   "id": "6b5afe73",
   "metadata": {},
   "outputs": [
    {
     "name": "stdout",
     "output_type": "stream",
     "text": [
      "Active Project Path: C:/Database/DM_Studio_Python_Integration_Examples\n"
     ]
    }
   ],
   "source": [
    "project_path = odmapp.ActiveProject.Folder.replace(\"\\\\\", \"/\")\n",
    "print(f'Active Project Path: {project_path}')"
   ]
  },
  {
   "cell_type": "markdown",
   "id": "0e589a8e",
   "metadata": {},
   "source": [
    "## Process Examples"
   ]
  },
  {
   "cell_type": "markdown",
   "id": "3623c818",
   "metadata": {},
   "source": [
    "### COPY\n",
    "\n",
    "**JS**\n",
    "\n",
    "```javascript\n",
    "oDmApp.ParseCommand(\"copy &IN=\" + inputFile + \" &OUT=\" + outputFile + \" {ZONE=2}\");\n",
    "\n",
    "```\n",
    "\n",
    "**Python**"
   ]
  },
  {
   "cell_type": "code",
   "execution_count": 6,
   "id": "2c6e4a92",
   "metadata": {},
   "outputs": [],
   "source": [
    "input_file = \"_vb_holes\"\n",
    "output_file = \"_vb_holes_zone2\"\n",
    "\n",
    "odmapp.ParseCommand(f\"copy &IN={input_file} &OUT={output_file} {{ZONE=2}}\")"
   ]
  },
  {
   "cell_type": "markdown",
   "id": "2c531cc0",
   "metadata": {},
   "source": [
    "### MGSORT\n",
    "\n",
    "**JS**\n",
    "\n",
    "```javascript\n",
    "oDmApp.ParseCommand(\"mgsort &IN=\" + inputFile + \" &OUT=\" + outputFile + \" *KEY1=BHID *KEY2=FROM @ORDER=1 @KEYSFRST=1 @ROWORDER=1 @KEYTOL=0.00001\");\n",
    "\n",
    "```\n",
    "\n",
    "**Python**"
   ]
  },
  {
   "cell_type": "code",
   "execution_count": 7,
   "id": "81c26917",
   "metadata": {},
   "outputs": [],
   "source": [
    "input_file = \"_vb_holes_zone2\"\n",
    "output_file = \"_vb_holes_zone2_sorted\"\n",
    "\n",
    "odmapp.ParseCommand(f\"mgsort &IN={input_file} &OUT={output_file} *KEY1=BHID *KEY2=FROM @ORDER=1 @KEYSFRST=1 @ROWORDER=1 @KEYTOL=0.00001\")"
   ]
  },
  {
   "cell_type": "markdown",
   "id": "41f97d9c",
   "metadata": {},
   "source": [
    "### DMEDIT\n",
    "\n",
    "**JS**\n",
    "\n",
    "```javascript\n",
    "    oDmApp.ParseCommand(\"dmedit &IN=\" + inputFile + \" @PRINT=0\"+\n",
    "        \" 'c' 'LITH' 'LITHOLOGY' \"+\n",
    "        \" 'c' 'AU' 'AU_PPM' \"+\n",
    "        \" 'c' 'CU' 'CU_PCT' \"+\n",
    "        \" '!' \");\n",
    "\n",
    "```\n",
    "\n",
    "**Python**"
   ]
  },
  {
   "cell_type": "code",
   "execution_count": 8,
   "id": "79bf50e7",
   "metadata": {},
   "outputs": [],
   "source": [
    "input_file = \"_vb_holes_zone2_sorted\"\n",
    "\n",
    "odmapp.ParseCommand(f\"dmedit &IN={input_file} @PRINT=0\" +\n",
    "        \" 'c' 'LITH' 'LITHOLOGY' \" +\n",
    "        \" 'c' 'AU' 'AU_PPM' \" +\n",
    "        \" 'c' 'CU' 'CU_PCT' \" +\n",
    "        \" '!' \")"
   ]
  },
  {
   "cell_type": "markdown",
   "id": "6376a739",
   "metadata": {},
   "source": [
    "### EXTRA\n",
    "\n",
    "**JS**\n",
    "\n",
    "```javascript\n",
    "    oDmApp.ParseCommand(\"extra &IN=\" + inputFile + \" &OUT=\" + outputFile + \" @APPROX=0 @PRINT=0\"+\n",
    "        \"'IF(ZONE == 0)'\"+\n",
    "            \"'delete()'\"+\n",
    "        \"'END'\"+\n",
    "        \"'GO'\");\n",
    "\n",
    "```\n",
    "\n",
    "**Python**"
   ]
  },
  {
   "cell_type": "code",
   "execution_count": 9,
   "id": "77bdf54d",
   "metadata": {},
   "outputs": [],
   "source": [
    "input_file = \"_vb_modgrd\"\n",
    "output_file = \"_vb_modgrd_nozone0\"\n",
    "\n",
    "odmapp.ParseCommand(f\"extra &IN= {input_file} &OUT= {output_file} @APPROX=0 @PRINT=0\"+\n",
    "        \"'IF(ZONE == 0)'\"+\n",
    "            \"'delete()'\"+\n",
    "        \"'END'\"+\n",
    "        \"'GO'\")"
   ]
  },
  {
   "cell_type": "markdown",
   "id": "0889ec48",
   "metadata": {},
   "source": [
    "## Convert Datamine File to CSV\n",
    "\n",
    "In order to convert a Datamine File to a CSV file, we could use `OUTPUT` native Datamine Studio process:"
   ]
  },
  {
   "cell_type": "markdown",
   "id": "2d7e83f3",
   "metadata": {},
   "source": [
    "### OUTPUT\n",
    "\n",
    "**JS**\n",
    "\n",
    "```javascript\n",
    "oDmApp.ParseCommand(\"output &IN=\" + inputFile + \" @CSV=1 @NODD=0 @DPLACE=-1 @IMPLICIT=1 '_vb_holes_.csv' \");\n",
    "\n",
    "```\n",
    "\n",
    "**Python**"
   ]
  },
  {
   "cell_type": "code",
   "execution_count": 10,
   "id": "7c3534f4",
   "metadata": {},
   "outputs": [],
   "source": [
    "input_file = \"_vb_holes\"\n",
    "\n",
    "odmapp.ParseCommand(f\"output &IN={input_file} @CSV=1 @NODD=0 @DPLACE=-1 @IMPLICIT=1 '_vb_holes_.csv' \")"
   ]
  },
  {
   "cell_type": "markdown",
   "id": "9618e059",
   "metadata": {},
   "source": [
    "### Pandas Example\n",
    "\n",
    "Now we can use `pandas` to import the CSV file and preprocess and analyze the available data:"
   ]
  },
  {
   "cell_type": "code",
   "execution_count": 11,
   "id": "e1ebc486",
   "metadata": {},
   "outputs": [
    {
     "data": {
      "text/html": [
       "<div>\n",
       "<style scoped>\n",
       "    .dataframe tbody tr th:only-of-type {\n",
       "        vertical-align: middle;\n",
       "    }\n",
       "\n",
       "    .dataframe tbody tr th {\n",
       "        vertical-align: top;\n",
       "    }\n",
       "\n",
       "    .dataframe thead th {\n",
       "        text-align: right;\n",
       "    }\n",
       "</style>\n",
       "<table border=\"1\" class=\"dataframe\">\n",
       "  <thead>\n",
       "    <tr style=\"text-align: right;\">\n",
       "      <th></th>\n",
       "      <th>BHID</th>\n",
       "      <th>X</th>\n",
       "      <th>Y</th>\n",
       "      <th>Z</th>\n",
       "      <th>LENGTH</th>\n",
       "      <th>A0</th>\n",
       "      <th>B0</th>\n",
       "      <th>C0</th>\n",
       "      <th>FROM</th>\n",
       "      <th>TO</th>\n",
       "      <th>...</th>\n",
       "      <th>REFMETH</th>\n",
       "      <th>HOLETYPE</th>\n",
       "      <th>ENDDATE</th>\n",
       "      <th>LITH</th>\n",
       "      <th>NLITH</th>\n",
       "      <th>AU</th>\n",
       "      <th>CU</th>\n",
       "      <th>DENSITY</th>\n",
       "      <th>ZONE</th>\n",
       "      <th>RADIUS</th>\n",
       "    </tr>\n",
       "  </thead>\n",
       "  <tbody>\n",
       "    <tr>\n",
       "      <th>0</th>\n",
       "      <td>VB2675</td>\n",
       "      <td>6085.681152</td>\n",
       "      <td>5144.979980</td>\n",
       "      <td>186.403793</td>\n",
       "      <td>3.000000</td>\n",
       "      <td>180.289993</td>\n",
       "      <td>49.950039</td>\n",
       "      <td>0</td>\n",
       "      <td>0.000000</td>\n",
       "      <td>3.000000</td>\n",
       "      <td>...</td>\n",
       "      <td>GPS</td>\n",
       "      <td>DD</td>\n",
       "      <td>11/11/98</td>\n",
       "      <td>Soil</td>\n",
       "      <td>0.0</td>\n",
       "      <td>NaN</td>\n",
       "      <td>NaN</td>\n",
       "      <td>NaN</td>\n",
       "      <td>NaN</td>\n",
       "      <td>1</td>\n",
       "    </tr>\n",
       "    <tr>\n",
       "      <th>1</th>\n",
       "      <td>VB2675</td>\n",
       "      <td>6085.676758</td>\n",
       "      <td>5144.175781</td>\n",
       "      <td>185.446899</td>\n",
       "      <td>0.500000</td>\n",
       "      <td>180.289993</td>\n",
       "      <td>49.950039</td>\n",
       "      <td>0</td>\n",
       "      <td>2.500000</td>\n",
       "      <td>3.000000</td>\n",
       "      <td>...</td>\n",
       "      <td>GPS</td>\n",
       "      <td>DD</td>\n",
       "      <td>11/11/98</td>\n",
       "      <td>Sandstone</td>\n",
       "      <td>1.0</td>\n",
       "      <td>NaN</td>\n",
       "      <td>NaN</td>\n",
       "      <td>NaN</td>\n",
       "      <td>NaN</td>\n",
       "      <td>1</td>\n",
       "    </tr>\n",
       "    <tr>\n",
       "      <th>2</th>\n",
       "      <td>VB2675</td>\n",
       "      <td>6085.331055</td>\n",
       "      <td>5075.604980</td>\n",
       "      <td>103.870598</td>\n",
       "      <td>212.636902</td>\n",
       "      <td>180.289993</td>\n",
       "      <td>49.950039</td>\n",
       "      <td>0</td>\n",
       "      <td>3.000000</td>\n",
       "      <td>215.636902</td>\n",
       "      <td>...</td>\n",
       "      <td>GPS</td>\n",
       "      <td>DD</td>\n",
       "      <td>11/11/98</td>\n",
       "      <td>Sandstone</td>\n",
       "      <td>1.0</td>\n",
       "      <td>NaN</td>\n",
       "      <td>NaN</td>\n",
       "      <td>NaN</td>\n",
       "      <td>NaN</td>\n",
       "      <td>1</td>\n",
       "    </tr>\n",
       "    <tr>\n",
       "      <th>3</th>\n",
       "      <td>VB2675</td>\n",
       "      <td>6084.823242</td>\n",
       "      <td>5006.608887</td>\n",
       "      <td>21.509710</td>\n",
       "      <td>2.250000</td>\n",
       "      <td>180.758408</td>\n",
       "      <td>50.404690</td>\n",
       "      <td>0</td>\n",
       "      <td>215.636902</td>\n",
       "      <td>217.886902</td>\n",
       "      <td>...</td>\n",
       "      <td>GPS</td>\n",
       "      <td>DD</td>\n",
       "      <td>11/11/98</td>\n",
       "      <td>Sandstone</td>\n",
       "      <td>1.0</td>\n",
       "      <td>NaN</td>\n",
       "      <td>NaN</td>\n",
       "      <td>2.62</td>\n",
       "      <td>NaN</td>\n",
       "      <td>1</td>\n",
       "    </tr>\n",
       "    <tr>\n",
       "      <th>4</th>\n",
       "      <td>VB2675</td>\n",
       "      <td>6084.805176</td>\n",
       "      <td>5005.254883</td>\n",
       "      <td>19.871401</td>\n",
       "      <td>2.000000</td>\n",
       "      <td>180.797104</td>\n",
       "      <td>50.477390</td>\n",
       "      <td>0</td>\n",
       "      <td>217.886902</td>\n",
       "      <td>219.886902</td>\n",
       "      <td>...</td>\n",
       "      <td>GPS</td>\n",
       "      <td>DD</td>\n",
       "      <td>11/11/98</td>\n",
       "      <td>Sandstone</td>\n",
       "      <td>1.0</td>\n",
       "      <td>NaN</td>\n",
       "      <td>NaN</td>\n",
       "      <td>2.65</td>\n",
       "      <td>NaN</td>\n",
       "      <td>1</td>\n",
       "    </tr>\n",
       "  </tbody>\n",
       "</table>\n",
       "<p>5 rows × 22 columns</p>\n",
       "</div>"
      ],
      "text/plain": [
       "     BHID            X            Y           Z      LENGTH          A0  \\\n",
       "0  VB2675  6085.681152  5144.979980  186.403793    3.000000  180.289993   \n",
       "1  VB2675  6085.676758  5144.175781  185.446899    0.500000  180.289993   \n",
       "2  VB2675  6085.331055  5075.604980  103.870598  212.636902  180.289993   \n",
       "3  VB2675  6084.823242  5006.608887   21.509710    2.250000  180.758408   \n",
       "4  VB2675  6084.805176  5005.254883   19.871401    2.000000  180.797104   \n",
       "\n",
       "          B0  C0        FROM          TO  ...  REFMETH HOLETYPE   ENDDATE  \\\n",
       "0  49.950039   0    0.000000    3.000000  ...      GPS       DD  11/11/98   \n",
       "1  49.950039   0    2.500000    3.000000  ...      GPS       DD  11/11/98   \n",
       "2  49.950039   0    3.000000  215.636902  ...      GPS       DD  11/11/98   \n",
       "3  50.404690   0  215.636902  217.886902  ...      GPS       DD  11/11/98   \n",
       "4  50.477390   0  217.886902  219.886902  ...      GPS       DD  11/11/98   \n",
       "\n",
       "        LITH NLITH  AU  CU  DENSITY  ZONE  RADIUS  \n",
       "0       Soil   0.0 NaN NaN      NaN   NaN       1  \n",
       "1  Sandstone   1.0 NaN NaN      NaN   NaN       1  \n",
       "2  Sandstone   1.0 NaN NaN      NaN   NaN       1  \n",
       "3  Sandstone   1.0 NaN NaN     2.62   NaN       1  \n",
       "4  Sandstone   1.0 NaN NaN     2.65   NaN       1  \n",
       "\n",
       "[5 rows x 22 columns]"
      ]
     },
     "execution_count": 11,
     "metadata": {},
     "output_type": "execute_result"
    }
   ],
   "source": [
    "# Import CSV file\n",
    "df = pd.read_csv(f\"{project_path}/_vb_holes_.csv\", na_values=['-'])\n",
    "\n",
    "# Display first 5 rows\n",
    "df.head()"
   ]
  },
  {
   "cell_type": "code",
   "execution_count": 12,
   "id": "c924a845",
   "metadata": {},
   "outputs": [
    {
     "data": {
      "text/html": [
       "<div>\n",
       "<style scoped>\n",
       "    .dataframe tbody tr th:only-of-type {\n",
       "        vertical-align: middle;\n",
       "    }\n",
       "\n",
       "    .dataframe tbody tr th {\n",
       "        vertical-align: top;\n",
       "    }\n",
       "\n",
       "    .dataframe thead th {\n",
       "        text-align: right;\n",
       "    }\n",
       "</style>\n",
       "<table border=\"1\" class=\"dataframe\">\n",
       "  <thead>\n",
       "    <tr style=\"text-align: right;\">\n",
       "      <th></th>\n",
       "      <th>BHID</th>\n",
       "      <th>FROM</th>\n",
       "      <th>TO</th>\n",
       "      <th>LITH</th>\n",
       "      <th>AU</th>\n",
       "      <th>CU</th>\n",
       "    </tr>\n",
       "  </thead>\n",
       "  <tbody>\n",
       "    <tr>\n",
       "      <th>12</th>\n",
       "      <td>VB2675</td>\n",
       "      <td>227.886902</td>\n",
       "      <td>229.886902</td>\n",
       "      <td>Siltstone</td>\n",
       "      <td>0.63</td>\n",
       "      <td>0.7</td>\n",
       "    </tr>\n",
       "    <tr>\n",
       "      <th>13</th>\n",
       "      <td>VB2675</td>\n",
       "      <td>229.886902</td>\n",
       "      <td>231.886902</td>\n",
       "      <td>Siltstone</td>\n",
       "      <td>0.56</td>\n",
       "      <td>0.6</td>\n",
       "    </tr>\n",
       "    <tr>\n",
       "      <th>14</th>\n",
       "      <td>VB2675</td>\n",
       "      <td>231.886902</td>\n",
       "      <td>233.886902</td>\n",
       "      <td>Siltstone</td>\n",
       "      <td>0.70</td>\n",
       "      <td>0.7</td>\n",
       "    </tr>\n",
       "    <tr>\n",
       "      <th>15</th>\n",
       "      <td>VB2675</td>\n",
       "      <td>233.886902</td>\n",
       "      <td>235.886902</td>\n",
       "      <td>Siltstone</td>\n",
       "      <td>0.42</td>\n",
       "      <td>0.5</td>\n",
       "    </tr>\n",
       "    <tr>\n",
       "      <th>16</th>\n",
       "      <td>VB2675</td>\n",
       "      <td>235.886902</td>\n",
       "      <td>237.886902</td>\n",
       "      <td>Siltstone</td>\n",
       "      <td>0.98</td>\n",
       "      <td>0.9</td>\n",
       "    </tr>\n",
       "  </tbody>\n",
       "</table>\n",
       "</div>"
      ],
      "text/plain": [
       "      BHID        FROM          TO       LITH    AU   CU\n",
       "12  VB2675  227.886902  229.886902  Siltstone  0.63  0.7\n",
       "13  VB2675  229.886902  231.886902  Siltstone  0.56  0.6\n",
       "14  VB2675  231.886902  233.886902  Siltstone  0.70  0.7\n",
       "15  VB2675  233.886902  235.886902  Siltstone  0.42  0.5\n",
       "16  VB2675  235.886902  237.886902  Siltstone  0.98  0.9"
      ]
     },
     "execution_count": 12,
     "metadata": {},
     "output_type": "execute_result"
    }
   ],
   "source": [
    "# Select relevant columns and drop rows with missing values\n",
    "target_cols = ['BHID', 'FROM', 'TO', 'LITH', 'AU', 'CU']\n",
    "df_selected = df.dropna(axis=0, how='any', subset=target_cols)[target_cols]\n",
    "df_selected.head()"
   ]
  },
  {
   "cell_type": "markdown",
   "id": "6eeee897",
   "metadata": {},
   "source": [
    "### Matplotlib Example\n",
    "\n",
    "We can use `matplotlib` and `seaborn` to plot histograms:"
   ]
  },
  {
   "cell_type": "code",
   "execution_count": 13,
   "id": "26b65580",
   "metadata": {},
   "outputs": [
    {
     "data": {
      "image/png": "[encoded data removed]",
      "text/plain": [
       "<Figure size 800x500 with 1 Axes>"
      ]
     },
     "metadata": {},
     "output_type": "display_data"
    }
   ],
   "source": [
    "# Histogram of AU\n",
    "plt.figure(figsize=(8, 5))\n",
    "\n",
    "sns.histplot(df_selected['AU'], bins=50, kde=True, color='gold')\n",
    "plt.title('Distribution of Au (ppm)')\n",
    "plt.xlabel('Au (ppm)')\n",
    "plt.ylabel('Frequency')\n",
    "plt.show()"
   ]
  },
  {
   "cell_type": "markdown",
   "id": "e50216f6",
   "metadata": {},
   "source": [
    "### Seaborn Example\n",
    "\n",
    "We can use `seaborn` to plot boxplots:"
   ]
  },
  {
   "cell_type": "code",
   "execution_count": 14,
   "id": "32005dc1",
   "metadata": {},
   "outputs": [
    {
     "data": {
      "image/png": "[encoded data removed]",
      "text/plain": [
       "<Figure size 1000x600 with 1 Axes>"
      ]
     },
     "metadata": {},
     "output_type": "display_data"
    }
   ],
   "source": [
    "# Boxplots of CU grouped by LITH\n",
    "plt.figure(figsize=(10, 6))\n",
    "sns.boxplot(x='LITH', y='CU', data=df_selected, hue='LITH')\n",
    "plt.title('Cu (%) by Lithology')\n",
    "plt.xlabel('')\n",
    "plt.ylabel('Cu (%)')\n",
    "plt.show()"
   ]
  },
  {
   "cell_type": "markdown",
   "id": "0dee8d29",
   "metadata": {},
   "source": [
    "We can save/write the cleaned table to a CSV file in the active project path:"
   ]
  },
  {
   "cell_type": "code",
   "execution_count": 15,
   "id": "b1b35920",
   "metadata": {},
   "outputs": [
    {
     "name": "stdout",
     "output_type": "stream",
     "text": [
      "Preprocessed data saved to C:/Database/DM_Studio_Python_Integration_Examples/_vb_holes_cleaned.csv\n"
     ]
    }
   ],
   "source": [
    "df_selected.to_csv(f\"{project_path}/_vb_holes_cleaned.csv\", index=False)\n",
    "print(f\"Preprocessed data saved to {project_path}/_vb_holes_cleaned.csv\")"
   ]
  },
  {
   "cell_type": "markdown",
   "id": "116078d0",
   "metadata": {},
   "source": [
    "## Convert CSV to Datamine File\n",
    "\n",
    "In order to convert CSV file to Datamine File, we could use `INPFIL` native Datamine Studio process:"
   ]
  },
  {
   "cell_type": "markdown",
   "id": "8b01b453",
   "metadata": {},
   "source": [
    "### INPFIL\n",
    "\n",
    "**JS**\n",
    "\n",
    "```javascript\n",
    "oDmApp.parseCommand(f\"inpfil &OUT=\" + outputFile + \" @PRINT=0\" +\n",
    "    \" ''\"+\n",
    "    \"'BHID' 'A' '16' 'Y' '-'\"+\n",
    "    \"'FROM' 'N' 'Y' '-'\"+\n",
    "    \"'TO' 'N' 'Y' '-'\"+\n",
    "    \"'LITH' 'A' '16' 'Y' '-'\"+\n",
    "    \"'AU' 'N' 'Y' '-'\"+\n",
    "    \"'CU' 'N' 'Y' '-'\"+\n",
    "    \" '!'\"+\n",
    "    \" 'Y'\"+\n",
    "    \"'_vb_holes_cleaned.csv'\");\n",
    "\n",
    "```\n",
    "\n",
    "**Python**"
   ]
  },
  {
   "cell_type": "code",
   "execution_count": 16,
   "id": "2c1818f6",
   "metadata": {},
   "outputs": [],
   "source": [
    "output_file = \"holes\"\n",
    "\n",
    "odmapp.parseCommand(f\"inpfil &OUT={output_file} @PRINT=0\" +\n",
    "    \" ''\"+\n",
    "    \"'BHID' 'A' '16' 'Y' '-'\"+\n",
    "    \"'FROM' 'N' 'Y' '-'\"+\n",
    "    \"'TO' 'N' 'Y' '-'\"+\n",
    "    \"'LITH' 'A' '16' 'Y' '-'\"+\n",
    "    \"'AU' 'N' 'Y' '-'\"+\n",
    "    \"'CU' 'N' 'Y' '-'\"+\n",
    "    \" '!'\"+\n",
    "    \" 'Y'\"+\n",
    "    \"'_vb_holes_cleaned.csv'\")"
   ]
  },
  {
   "cell_type": "markdown",
   "id": "d91a423a",
   "metadata": {},
   "source": [
    "## Command Examples"
   ]
  },
  {
   "cell_type": "markdown",
   "id": "1541d4ce",
   "metadata": {},
   "source": [
    "### Opening Datamine File in 3D Window\n",
    "\n",
    "We might need to open a Datamine File in 3D Window, so it can be treated as an Datamine Object.\n",
    "\n",
    "**JS**\n",
    "\n",
    "```javascript\n",
    "objMin1St = oDmApp.ActiveProject.Data.LoadFromProject(\"_vb_min1st\");\n",
    "\n",
    "objMin2St = oDmApp.ActiveProject.Data.LoadFromProject(\"_vb_min2st\");\n",
    "```\n",
    "\n",
    "**Python**"
   ]
  },
  {
   "cell_type": "code",
   "execution_count": 17,
   "id": "9f61b48b",
   "metadata": {},
   "outputs": [],
   "source": [
    "obj_min1st = odmapp.ActiveProject.Data.LoadFromProject(\"_vb_min1st\")"
   ]
  },
  {
   "cell_type": "code",
   "execution_count": 19,
   "id": "28540ae4",
   "metadata": {},
   "outputs": [],
   "source": [
    "obj_min2st = odmapp.ActiveProject.Data.LoadFromProject(\"_vb_min2st\")"
   ]
  },
  {
   "cell_type": "markdown",
   "id": "cab01ba6",
   "metadata": {},
   "source": [
    "### Combine Objects\n",
    "\n",
    "Now that we have two objects in the 3D Window, we could combine these objects into a single object.\n",
    "\n",
    "**JS**\n",
    "\n",
    "```javascript\n",
    "objMin2St.Combine(objMin1St);\n",
    "```\n",
    "\n",
    "**Python**"
   ]
  },
  {
   "cell_type": "code",
   "execution_count": 20,
   "id": "f3a8d6ce",
   "metadata": {},
   "outputs": [],
   "source": [
    "obj_min2st.Combine(obj_min1st)"
   ]
  },
  {
   "cell_type": "markdown",
   "id": "e6c04b5d",
   "metadata": {},
   "source": [
    "⚠️ **Note:** `Combine Objects` is an _inplace_ operation. Thus, it will overwrite the first object (i.e. `obj_min2st`)."
   ]
  },
  {
   "cell_type": "markdown",
   "id": "008c482e",
   "metadata": {},
   "source": [
    "### Saving Datamine Object\n",
    "\n",
    "Since the new combined object is an Datamine Object, it is not saved in our machine yet. To save it, we could use the following:\n",
    "\n",
    "**JS**\n",
    "\n",
    "```javascript\n",
    "objMin2St.SaveAsDatamineFile(\"_vb_min1st_min2st_combined\", true, true, \"\");\n",
    "```\n",
    "\n",
    "**Python**"
   ]
  },
  {
   "cell_type": "code",
   "execution_count": 21,
   "id": "2ec7357b",
   "metadata": {},
   "outputs": [],
   "source": [
    "obj_min2st.SaveAsDatamineFile(\"_vb_min1st_min2st_combined\", True, True, \"\")"
   ]
  },
  {
   "cell_type": "markdown",
   "id": "14ede7f3",
   "metadata": {},
   "source": [
    "⚠️ **Note:** In _JS_, boolean values are _lower case_ (i.e. `true`/`false`), while in _Python_ they are _capitalized_ (i.e. `True`/`False`)."
   ]
  },
  {
   "cell_type": "markdown",
   "id": "12d54c6c",
   "metadata": {},
   "source": [
    "## Building User Interface (UI)\n",
    "\n",
    "Basically, we have two options to develop an UI for our Python code:\n",
    "\n",
    "- **Executable Applications (Desktop)**\n",
    "- **Web Applications**"
   ]
  },
  {
   "cell_type": "markdown",
   "id": "82b695e7",
   "metadata": {},
   "source": [
    "### Executable Applications\n",
    "\n",
    "**Main features:**\n",
    "\n",
    "- Programs installed directly on the user’s computer;\n",
    "- Run locally, usually as Windows (.exe), Linux (.bin/.run), or macOS (.app);\n",
    "- Do not require an internet connection.\n",
    "\n",
    "**Main Python Libraries:**\n",
    "\n",
    "- [Tkinter](https://docs.python.org/3/library/tkinter.html): native Python library, ideal for simple interfaces;\n",
    "- [PyQt5](https://doc.qt.io/archives/qtforpython-5/contents.html): external Python library, ideal for more complex and responsive interfaces.\n",
    "\n",
    "⚠️ **Note:** You can also use the `PyQt6` library. It is the latest version of the `PyQt` project, but you will find more resources available online for the `PyQt5` library."
   ]
  },
  {
   "cell_type": "markdown",
   "id": "8ac3ca5d",
   "metadata": {},
   "source": [
    "### Web Applications\n",
    "\n",
    "**Main features:**\n",
    "\n",
    "- Programs accessed through a browser (Chrome, Edge, etc.);\n",
    "- Run on remote servers and deliver results to the client via HTTP/HTTPS;\n",
    "- Usually depend on an internet connection.\n",
    "\n",
    "**Main Python Libraries:**\n",
    "\n",
    "- [Streamlit](https://streamlit.io/): external Python library, simple to use, dashboard-like application, ideal for (Geo)Data Scientists;\n",
    "- [Flask](https://flask.palletsprojects.com/en/stable/): external Python library, great for small apps, requires great knowledge in web development.\n",
    "\n",
    "⚠️ **Note:** Check out the [Composite Analyzer](https://github.com/fnaghetini/Composite-Analyzer) repository on GitHub, which demonstrates the integration between Studio and Python via a Streamlit Web App."
   ]
  },
  {
   "cell_type": "markdown",
   "id": "4896e3b4",
   "metadata": {},
   "source": [
    "### Executable Apps vs. Web Apps\n",
    "\n",
    "| Criterion             | Executable App                                  | Web App                                              |\n",
    "|-----------------------|-------------------------------------------------|------------------------------------------------------|\n",
    "| **Installation**      | Does not require installation                   | Requires installation of Python and its dependencies |\n",
    "| **Resource Access**   | User simply run the app                         | User needs to run the app via Python Prompt          |\n",
    "| **Deployment**        | Easy to deploy/compile using `PyInstaller`      | More difficult to deploy                             |\n",
    "| **Interface**         | Old and less visually appealing widgets         | Modern and ready-to-use widgets                      |\n",
    "| **Responsivity**      | More difficult to implement responsive features | Easy to implement responsive features                |\n"
   ]
  },
  {
   "cell_type": "markdown",
   "id": "d8abc7c4",
   "metadata": {},
   "source": [
    "### Conclusion\n",
    "\n",
    "In summary, to build more user-friendly applications, I would recommend **Executable Apps**, because:\n",
    "\n",
    "1. Executable files (.exe) are more compatible with Windows features, which are required to integrate Studio with Python.\n",
    "\n",
    "2. The simplest way to deploy a Streamlit web app is through Streamlit Cloud. However, this does not work because Streamlit Cloud is Linux-based, while Studio/Python integration requires Windows features (e.g., COM and ActiveX Objects). Although it is possible to deploy a Streamlit app to a Windows Cloud Server, this is not straightforward (you may have to use `Docker`).\n",
    "\n",
    "3. Once the executable app is compiled, you only need to send the .exe file to the end user. Since all required components are already bundled, the user does not need to install Python or its dependencies.\n",
    "\n",
    "4. I would recommend using the **PyQt5** library instead of **Tkinter**, as it is more modern and allows the creation of responsive and more visually appealing interface elements."
   ]
  }
 ],
 "metadata": {
  "kernelspec": {
   "display_name": "base",
   "language": "python",
   "name": "python3"
  },
  "language_info": {
   "codemirror_mode": {
    "name": "ipython",
    "version": 3
   },
   "file_extension": ".py",
   "mimetype": "text/x-python",
   "name": "python",
   "nbconvert_exporter": "python",
   "pygments_lexer": "ipython3",
   "version": "3.12.7"
  }
 },
 "nbformat": 4,
 "nbformat_minor": 5
}
